{
 "metadata": {
  "name": ""
 },
 "nbformat": 3,
 "nbformat_minor": 0,
 "worksheets": [
  {
   "cells": [
    {
     "cell_type": "heading",
     "level": 1,
     "metadata": {},
     "source": [
      "A list is not enough - Idf_MSequence"
     ]
    },
    {
     "cell_type": "heading",
     "level": 2,
     "metadata": {},
     "source": [
      "Some list operations"
     ]
    },
    {
     "cell_type": "markdown",
     "metadata": {},
     "source": [
      "Let us open an idf file"
     ]
    },
    {
     "cell_type": "code",
     "collapsed": false,
     "input": [
      "# you would normaly install eppy by doing\n",
      "# python setup.py install\n",
      "# or\n",
      "# pip install eppy\n",
      "# or\n",
      "# easy_install eppy\n",
      "\n",
      "# if you have not done so, uncomment the following three lines\n",
      "import sys\n",
      "# pathnameto_eppy = 'c:/eppy'\n",
      "pathnameto_eppy = '../../../'\n",
      "sys.path.append(pathnameto_eppy)"
     ],
     "language": "python",
     "metadata": {},
     "outputs": [],
     "prompt_number": 1
    },
    {
     "cell_type": "code",
     "collapsed": false,
     "input": [
      "from eppy import modeleditor\n",
      "from eppy.modeleditor import IDF\n",
      "iddfile = \"../../../eppy/resources/iddfiles/Energy+V7_2_0.idd\"\n",
      "fname1 = \"../../../eppy/resources/idffiles/V_7_2/dev1.idf\"\n",
      "\n",
      "IDF.setiddname(iddfile)\n",
      "idf1 = IDF(fname1)\n",
      "idf1.printidf()"
     ],
     "language": "python",
     "metadata": {},
     "outputs": [
      {
       "output_type": "stream",
       "stream": "stdout",
       "text": [
        "\n",
        "VERSION,                  \n",
        "    7.3;                      !- Version Identifier\n",
        "\n",
        "SIMULATIONCONTROL,        \n",
        "    Yes,                      !- Do Zone Sizing Calculation\n",
        "    Yes,                      !- Do System Sizing Calculation\n",
        "    Yes,                      !- Do Plant Sizing Calculation\n",
        "    No,                       !- Run Simulation for Sizing Periods\n",
        "    Yes;                      !- Run Simulation for Weather File Run Periods\n",
        "\n",
        "BUILDING,                 \n",
        "    Empire State Building,    !- Name\n",
        "    30.0,                     !- North Axis\n",
        "    City,                     !- Terrain\n",
        "    0.04,                     !- Loads Convergence Tolerance Value\n",
        "    0.4,                      !- Temperature Convergence Tolerance Value\n",
        "    FullExterior,             !- Solar Distribution\n",
        "    25,                       !- Maximum Number of Warmup Days\n",
        "    6;                        !- Minimum Number of Warmup Days\n",
        "\n",
        "SITE:LOCATION,            \n",
        "    CHICAGO_IL_USA TMY2-94846,    !- Name\n",
        "    41.78,                    !- Latitude\n",
        "    -87.75,                   !- Longitude\n",
        "    -6.0,                     !- Time Zone\n",
        "    190.0;                    !- Elevation\n",
        "\n",
        "MATERIAL:AIRGAP,          \n",
        "    F04 Wall air space resistance,    !- Name\n",
        "    0.15;                     !- Thermal Resistance\n",
        "\n",
        "MATERIAL:AIRGAP,          \n",
        "    F05 Ceiling air space resistance,    !- Name\n",
        "    0.18;                     !- Thermal Resistance\n",
        "\n"
       ]
      }
     ],
     "prompt_number": 6
    },
    {
     "cell_type": "code",
     "collapsed": false,
     "input": [
      "# we see that there are two MATERIAL:AIRGAP objects\n",
      "# let us take a look at them\n",
      "airgaps = idf1.idfobjects[\"MATERIAL:AIRGAP\"]\n",
      "print airgaps"
     ],
     "language": "python",
     "metadata": {},
     "outputs": [
      {
       "output_type": "stream",
       "stream": "stdout",
       "text": [
        "[\n",
        "MATERIAL:AIRGAP,          \n",
        "    F04 Wall air space resistance,    !- Name\n",
        "    0.15;                     !- Thermal Resistance\n",
        ", \n",
        "MATERIAL:AIRGAP,          \n",
        "    F05 Ceiling air space resistance,    !- Name\n",
        "    0.18;                     !- Thermal Resistance\n",
        "]\n"
       ]
      }
     ],
     "prompt_number": 9
    },
    {
     "cell_type": "markdown",
     "metadata": {},
     "source": [
      "- We can see that there are two items in airgaps\n",
      "- each of these items are EpBunch objects\n",
      "- We know that EpBunch objects are really **syntactic sugar** for a simpler data structure. Earlier documentation explains how this happens\n",
      "- Just to review, let us dig a little deeper."
     ]
    },
    {
     "cell_type": "code",
     "collapsed": false,
     "input": [
      "# looking at one of the airgaps, calling it airgap1\n",
      "airgap1 = airgaps[0]\n",
      "airgap1.obj"
     ],
     "language": "python",
     "metadata": {},
     "outputs": [
      {
       "metadata": {},
       "output_type": "pyout",
       "prompt_number": 12,
       "text": [
        "['MATERIAL:AIRGAP', 'F04 Wall air space resistance', 0.15]"
       ]
      }
     ],
     "prompt_number": 12
    },
    {
     "cell_type": "code",
     "collapsed": false,
     "input": [
      "# the underlying datasturcture we are working on is this one.\n",
      "idf1.model.dt[\"MATERIAL:AIRGAP\"][0]"
     ],
     "language": "python",
     "metadata": {},
     "outputs": [
      {
       "metadata": {},
       "output_type": "pyout",
       "prompt_number": 15,
       "text": [
        "['MATERIAL:AIRGAP', 'F04 Wall air space resistance', 0.15]"
       ]
      }
     ],
     "prompt_number": 15
    },
    {
     "cell_type": "markdown",
     "metadata": {},
     "source": [
      "Are these two lists really the same list. How can we check this. In python we check the **id** of the objects. If they have the same **id** then they are the same object"
     ]
    },
    {
     "cell_type": "code",
     "collapsed": false,
     "input": [
      "print id(airgap1.obj)\n",
      "print id(idf1.model.dt[\"MATERIAL:AIRGAP\"][0])"
     ],
     "language": "python",
     "metadata": {},
     "outputs": [
      {
       "output_type": "stream",
       "stream": "stdout",
       "text": [
        "4438418640\n",
        "4438418640\n"
       ]
      }
     ],
     "prompt_number": 17
    },
    {
     "cell_type": "markdown",
     "metadata": {},
     "source": [
      "Aha ! they are the same object. We know that `airgap1` is sysntactic sugar for `airgap.obj`, because that is how an EpBunch object works."
     ]
    },
    {
     "cell_type": "markdown",
     "metadata": {},
     "source": [
      "`airgap1` was a single item in a list. We should start to look at the entire list.\n",
      "\n",
      "So we look at `airgaps` and compare it to `idf1.model.dt[\"MATERIAL:AIRGAP\"]`"
     ]
    },
    {
     "cell_type": "code",
     "collapsed": false,
     "input": [
      "print airgaps"
     ],
     "language": "python",
     "metadata": {},
     "outputs": [
      {
       "output_type": "stream",
       "stream": "stdout",
       "text": [
        "[\n",
        "MATERIAL:AIRGAP,          \n",
        "    F04 Wall air space resistance,    !- Name\n",
        "    0.15;                     !- Thermal Resistance\n",
        ", \n",
        "MATERIAL:AIRGAP,          \n",
        "    F05 Ceiling air space resistance,    !- Name\n",
        "    0.18;                     !- Thermal Resistance\n",
        "]\n"
       ]
      }
     ],
     "prompt_number": 21
    },
    {
     "cell_type": "code",
     "collapsed": false,
     "input": [
      "idf1.model.dt[\"MATERIAL:AIRGAP\"]"
     ],
     "language": "python",
     "metadata": {},
     "outputs": [
      {
       "metadata": {},
       "output_type": "pyout",
       "prompt_number": 20,
       "text": [
        "[['MATERIAL:AIRGAP', 'F04 Wall air space resistance', 0.15],\n",
        " ['MATERIAL:AIRGAP', 'F05 Ceiling air space resistance', 0.18]]"
       ]
      }
     ],
     "prompt_number": 20
    },
    {
     "cell_type": "markdown",
     "metadata": {},
     "source": [
      "They don't quite look the same. At least they seem to print out differently. Of course, both of them are lists.\n",
      "\n",
      "- We know that `airgaps` is a list of EpBunch objects. \n",
      "- `idf1.model.dt[\"MATERIAL:AIRGAP\"]` looks like a list of lists\n",
      "\n",
      "We know that any operation on `airgaps[0]` will access `airgaps[0].obj` which is the same as `idf1.model.dt[\"MATERIAL:AIRGAP\"][0]`. But how about an operation on airgaps. if we delete an item in the `airgaps`, will it remove an item in `idf1.model.dt[\"MATERIAL:AIRGAP\"]`? As an example, let us look at a specific operation.\n",
      "\n",
      "- for eppy to work correctly, poping a item in `airgaps` should pop an item in `idf1.model.dt[\"MATERIAL:AIRGAP\"]`\n",
      "- if `airgaps` is a list, `airgaps.pop()` will pop an item in airgaps. It will not pop an item in `idf1.model.dt[\"MATERIAL:AIRGAP\"]`\n",
      "- this is because, `airgaps` is a list. The list does not know that it is connected to another list 'idf1.model.dt[\"MATERIAL:AIRGAP\"]'\n",
      "\n",
      "How do we make this happen? How can we connect the two lists ?\n",
      "\n",
      "In fact any list operation on `airgaps`, should produce the same list operation on `idf1.model.dt[\"MATERIAL:AIRGAP\"]`. Now, what are the list operations ? In python, you can see all the functions of a object by calling the function **dir** on it. "
     ]
    },
    {
     "cell_type": "code",
     "collapsed": false,
     "input": [
      "simplelist = [1,2,3,4]\n",
      "print dir(simplelist)"
     ],
     "language": "python",
     "metadata": {},
     "outputs": [
      {
       "output_type": "stream",
       "stream": "stdout",
       "text": [
        "['__add__', '__class__', '__contains__', '__delattr__', '__delitem__', '__delslice__', '__doc__', '__eq__', '__format__', '__ge__', '__getattribute__', '__getitem__', '__getslice__', '__gt__', '__hash__', '__iadd__', '__imul__', '__init__', '__iter__', '__le__', '__len__', '__lt__', '__mul__', '__ne__', '__new__', '__reduce__', '__reduce_ex__', '__repr__', '__reversed__', '__rmul__', '__setattr__', '__setitem__', '__setslice__', '__sizeof__', '__str__', '__subclasshook__', 'append', 'count', 'extend', 'index', 'insert', 'pop', 'remove', 'reverse', 'sort']\n"
       ]
      }
     ],
     "prompt_number": 28
    },
    {
     "cell_type": "markdown",
     "metadata": {},
     "source": [
      "You can see **pop** in the list, and many of the commonly used functions like remove, reverse, insert.\n",
      "\n",
      "Can we subclass the list object, so that any operation on `airgaps` will produce the same operation on `idf1.model.dt[\"MATERIAL:AIRGAP\"]`. The subclassing strategy worked for us pretty well so far. `Bunch` is a subclass of `dict`. `EpBunch` is a subclass of `Bunch`.\n",
      "\n",
      "If we subclass `list`, we will have to override all the functions of `list` and make sure that we do not break anything. This is getting ugly very fast. The user may do many unexpected operations. For example, the following operations are possible with list."
     ]
    },
    {
     "cell_type": "code",
     "collapsed": false,
     "input": [
      "simplelist = simplelist + [11,22,33]\n",
      "print simplelist"
     ],
     "language": "python",
     "metadata": {},
     "outputs": [
      {
       "output_type": "stream",
       "stream": "stdout",
       "text": [
        "[1, 2, 3, 4, 11, 22, 33]\n"
       ]
      }
     ],
     "prompt_number": 29
    },
    {
     "cell_type": "code",
     "collapsed": false,
     "input": [
      "simplelist.insert(4, 104)\n",
      "print simplelist"
     ],
     "language": "python",
     "metadata": {},
     "outputs": [
      {
       "output_type": "stream",
       "stream": "stdout",
       "text": [
        "[1, 2, 3, 4, 104, 11, 22, 33]\n"
       ]
      }
     ],
     "prompt_number": 30
    },
    {
     "cell_type": "code",
     "collapsed": false,
     "input": [
      "simplelist.append(42)\n",
      "print simplelist"
     ],
     "language": "python",
     "metadata": {},
     "outputs": [
      {
       "output_type": "stream",
       "stream": "stdout",
       "text": [
        "[1, 2, 3, 4, 104, 11, 22, 33, 42]\n"
       ]
      }
     ],
     "prompt_number": 31
    },
    {
     "cell_type": "code",
     "collapsed": false,
     "input": [
      "simplelist.reverse()\n",
      "print simplelist"
     ],
     "language": "python",
     "metadata": {},
     "outputs": [
      {
       "output_type": "stream",
       "stream": "stdout",
       "text": [
        "[42, 33, 22, 11, 104, 4, 3, 2, 1]\n"
       ]
      }
     ],
     "prompt_number": 32
    },
    {
     "cell_type": "code",
     "collapsed": false,
     "input": [
      "print simplelist[2:5]"
     ],
     "language": "python",
     "metadata": {},
     "outputs": [
      {
       "output_type": "stream",
       "stream": "stdout",
       "text": [
        "[22, 11, 104]\n"
       ]
      }
     ],
     "prompt_number": 33
    },
    {
     "cell_type": "markdown",
     "metadata": {},
     "source": [
      "We will be overriding all these functions. Can we be sure that they will all work correctly. This is going to be difficult. There has to be an easier way of doing this."
     ]
    },
    {
     "cell_type": "heading",
     "level": 2,
     "metadata": {},
     "source": [
      "MutableSequence"
     ]
    },
    {
     "cell_type": "markdown",
     "metadata": {},
     "source": [
      "The developers of python were expecting similar use cases and have given us some built-in objects that will help us to get there. Specifically we are importing the library `collections` and using a class called `MutableSequence`. \n",
      "\n",
      "The documentation for MutableSequence rather cryptic. It says that MutableSequence is a subclass of Sequence and that List is a built-in sequence. The end result is that MutableSequence has all the list operations. But the real magic here is that we do not have to override all the operations. We need to override only the follwoing operations:\n",
      "\n",
      "- `__getitem__ `\n",
      "- `__setitem__ `\n",
      "- `__delitem__`\n",
      "- `__len__`\n",
      "- `insert`\n",
      "\n",
      "If we override these operations, all the other operations will work as expected. MutableSequence is an `Abstract Base Class`. It cannot be used directly. We have to subclass it and use the subclass."
     ]
    },
    {
     "cell_type": "markdown",
     "metadata": {},
     "source": [
      "Wow ! That is a lot of advanced stuff. It is hard to understand what it all means. To be honest, I was not smart enough to understand that by simply reading the standard python documentation. How would on even know that such an object exists in the python documentation ?\n",
      "\n",
      "Google to the rescue. I googled \"subclassing lists in python\", or something to that effect. I found myself at:\n",
      "\n",
      "http://stackoverflow.com/questions/3487434/overriding-append-method-after-inheriting-from-a-python-list\n",
      "\n",
      "Here Alex Martelli makes an clearly described use case for using MutableSequence and gives us the code for doing so. I have included this code in the eppy source code (in eppy/idf_msequence.py) as an example of how to use MutableSequence and I have unit tested it.\n",
      "\n",
      "Alex Martelli is one of the old time developers in python. He is also one of the authors of \"Python Cookbook\". If you get a chance to a BayPiggies meetup, you will probably meet him there. (Baypiggies is the the python meetup in the south bay of the San Francisco Bay Area.)\n",
      "\n",
      "Go take a look at the above link, spend some time reading it and then return to reading this documentation."
     ]
    },
    {
     "cell_type": "heading",
     "level": 2,
     "metadata": {},
     "source": [
      "Idf_MSequence"
     ]
    },
    {
     "cell_type": "markdown",
     "metadata": {},
     "source": [
      "Idf_MSequence ? What is that ?\n",
      "\n",
      "- It is a sequence of idf objects\n",
      "- it is subclassed from MutableSequence\n",
      "- It could have been called `Idf_MutableSequence`, but was shortened slightly to `Idf_MSequence`\n",
      "\n",
      "Let us take a look at the code for `Idf_Msequence`"
     ]
    },
    {
     "cell_type": "code",
     "collapsed": false,
     "input": [
      "import collections\n",
      "# a code snippet from Idf_MSequence\n",
      "class Idf_MSequence(collections.MutableSequence):\n",
      "    def __init__(self, list1, list2):\n",
      "        super(Idf_MSequence, self).__init__()\n",
      "        self.list1 = list1\n",
      "        self.list2 = list2  \n",
      "# more below snipped off"
     ],
     "language": "python",
     "metadata": {},
     "outputs": [],
     "prompt_number": 35
    },
    {
     "cell_type": "markdown",
     "metadata": {},
     "source": [
      "From our example with airgaps above:\n",
      "\n",
      "- `self.list1` would be `airgaps`\n",
      "- `self.list2` would be `airgaps.obj` \n",
      "- we know that `airgaps.obj` is `idf1.model.dt[\"MATERIAL:AIRGAP\"]`"
     ]
    },
    {
     "cell_type": "markdown",
     "metadata": {},
     "source": [
      "The rest of the code of `Idf_MSequence` simply overrides:\n",
      "\n",
      "- `__getitem__ `\n",
      "- `__setitem__ `\n",
      "- `__delitem__`\n",
      "- `__len__`\n",
      "- `insert`\n",
      "\n",
      "So that any operation on list1 will be duplicated in list2. Take a look at the code in eppy/idf_msequence.py and this will be clear. \n",
      "\n",
      "`airgaps` is of type `Idf_MSequence`. Shall we check ?"
     ]
    },
    {
     "cell_type": "code",
     "collapsed": false,
     "input": [
      "print type(airgaps)"
     ],
     "language": "python",
     "metadata": {},
     "outputs": [
      {
       "output_type": "stream",
       "stream": "stdout",
       "text": [
        "<class 'eppy.idf_msequence.Idf_MSequence'>\n"
       ]
      }
     ],
     "prompt_number": 36
    },
    {
     "cell_type": "markdown",
     "metadata": {},
     "source": [
      "Yup ! it is an Idf_MSequence"
     ]
    }
   ],
   "metadata": {}
  }
 ]
}