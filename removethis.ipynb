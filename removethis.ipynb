{
 "metadata": {
  "name": ""
 },
 "nbformat": 3,
 "nbformat_minor": 0,
 "worksheets": [
  {
   "cells": [
    {
     "cell_type": "code",
     "collapsed": false,
     "input": [
      "from eppy import modeleditor\n",
      "from eppy.modeleditor import IDF\n",
      "iddfile = \"./eppy/resources/iddfiles/Energy+V7_2_0.idd\"\n",
      "fname1 = \"./eppy/resources/idffiles/V_7_2/smallfile.idf\""
     ],
     "language": "python",
     "metadata": {},
     "outputs": [],
     "prompt_number": 1
    },
    {
     "cell_type": "code",
     "collapsed": false,
     "input": [
      "IDF.setiddname(iddfile)\n",
      "idf1 = IDF(fname1)"
     ],
     "language": "python",
     "metadata": {},
     "outputs": [],
     "prompt_number": 2
    },
    {
     "cell_type": "code",
     "collapsed": false,
     "input": [
      "idf1.printidf()"
     ],
     "language": "python",
     "metadata": {},
     "outputs": [
      {
       "output_type": "stream",
       "stream": "stdout",
       "text": [
        "\n",
        "VERSION,                  \n",
        "    7.3;                      !- Version Identifier\n",
        "\n",
        "SIMULATIONCONTROL,        \n",
        "    Yes,                      !- Do Zone Sizing Calculation\n",
        "    Yes,                      !- Do System Sizing Calculation\n",
        "    Yes,                      !- Do Plant Sizing Calculation\n",
        "    No,                       !- Run Simulation for Sizing Periods\n",
        "    Yes;                      !- Run Simulation for Weather File Run Periods\n",
        "\n",
        "BUILDING,                 \n",
        "    Empire State Building,    !- Name\n",
        "    30.0,                     !- North Axis\n",
        "    City,                     !- Terrain\n",
        "    0.04,                     !- Loads Convergence Tolerance Value\n",
        "    0.4,                      !- Temperature Convergence Tolerance Value\n",
        "    FullExterior,             !- Solar Distribution\n",
        "    25,                       !- Maximum Number of Warmup Days\n",
        "    6;                        !- Minimum Number of Warmup Days\n",
        "\n",
        "SITE:LOCATION,            \n",
        "    CHICAGO_IL_USA TMY2-94846,    !- Name\n",
        "    41.78,                    !- Latitude\n",
        "    -87.75,                   !- Longitude\n",
        "    -6.0,                     !- Time Zone\n",
        "    190.0;                    !- Elevation\n",
        "\n"
       ]
      }
     ],
     "prompt_number": 3
    },
    {
     "cell_type": "code",
     "collapsed": false,
     "input": [
      "idf1.idfobjects[\"BUILDING\"]"
     ],
     "language": "python",
     "metadata": {},
     "outputs": [
      {
       "metadata": {},
       "output_type": "pyout",
       "prompt_number": 4,
       "text": [
        "[\n",
        "BUILDING,                 \n",
        "    Empire State Building,    !- Name\n",
        "    30.0,                     !- North Axis\n",
        "    City,                     !- Terrain\n",
        "    0.04,                     !- Loads Convergence Tolerance Value\n",
        "    0.4,                      !- Temperature Convergence Tolerance Value\n",
        "    FullExterior,             !- Solar Distribution\n",
        "    25,                       !- Maximum Number of Warmup Days\n",
        "    6;                        !- Minimum Number of Warmup Days\n",
        "]"
       ]
      }
     ],
     "prompt_number": 4
    },
    {
     "cell_type": "code",
     "collapsed": false,
     "input": [
      "idf1.idfobjects.BUILDING"
     ],
     "language": "python",
     "metadata": {},
     "outputs": [
      {
       "metadata": {},
       "output_type": "pyout",
       "prompt_number": 5,
       "text": [
        "[\n",
        "BUILDING,                 \n",
        "    Empire State Building,    !- Name\n",
        "    30.0,                     !- North Axis\n",
        "    City,                     !- Terrain\n",
        "    0.04,                     !- Loads Convergence Tolerance Value\n",
        "    0.4,                      !- Temperature Convergence Tolerance Value\n",
        "    FullExterior,             !- Solar Distribution\n",
        "    25,                       !- Maximum Number of Warmup Days\n",
        "    6;                        !- Minimum Number of Warmup Days\n",
        "]"
       ]
      }
     ],
     "prompt_number": 5
    },
    {
     "cell_type": "code",
     "collapsed": false,
     "input": [
      "idf1.idfobjects.building"
     ],
     "language": "python",
     "metadata": {},
     "outputs": [
      {
       "metadata": {},
       "output_type": "pyout",
       "prompt_number": 6,
       "text": [
        "[\n",
        "BUILDING,                 \n",
        "    Empire State Building,    !- Name\n",
        "    30.0,                     !- North Axis\n",
        "    City,                     !- Terrain\n",
        "    0.04,                     !- Loads Convergence Tolerance Value\n",
        "    0.4,                      !- Temperature Convergence Tolerance Value\n",
        "    FullExterior,             !- Solar Distribution\n",
        "    25,                       !- Maximum Number of Warmup Days\n",
        "    6;                        !- Minimum Number of Warmup Days\n",
        "]"
       ]
      }
     ],
     "prompt_number": 6
    },
    {
     "cell_type": "code",
     "collapsed": false,
     "input": [
      "idf1.idfobjects.site_location"
     ],
     "language": "python",
     "metadata": {},
     "outputs": [
      {
       "metadata": {},
       "output_type": "pyout",
       "prompt_number": 7,
       "text": [
        "[\n",
        "SITE:LOCATION,            \n",
        "    CHICAGO_IL_USA TMY2-94846,    !- Name\n",
        "    41.78,                    !- Latitude\n",
        "    -87.75,                   !- Longitude\n",
        "    -6.0,                     !- Time Zone\n",
        "    190.0;                    !- Elevation\n",
        "]"
       ]
      }
     ],
     "prompt_number": 7
    },
    {
     "cell_type": "code",
     "collapsed": false,
     "input": [
      "idf1.idfobjects.site_location[0].Time_Zone = 3"
     ],
     "language": "python",
     "metadata": {},
     "outputs": [],
     "prompt_number": 8
    },
    {
     "cell_type": "code",
     "collapsed": false,
     "input": [
      "idf1.idfobjects.site_location"
     ],
     "language": "python",
     "metadata": {},
     "outputs": [
      {
       "metadata": {},
       "output_type": "pyout",
       "prompt_number": 9,
       "text": [
        "[\n",
        "SITE:LOCATION,            \n",
        "    CHICAGO_IL_USA TMY2-94846,    !- Name\n",
        "    41.78,                    !- Latitude\n",
        "    -87.75,                   !- Longitude\n",
        "    3,                        !- Time Zone\n",
        "    190.0;                    !- Elevation\n",
        "]"
       ]
      }
     ],
     "prompt_number": 9
    },
    {
     "cell_type": "code",
     "collapsed": false,
     "input": [
      "idf1.idfobjects[\"SITE:LOCATION\"]"
     ],
     "language": "python",
     "metadata": {},
     "outputs": [
      {
       "metadata": {},
       "output_type": "pyout",
       "prompt_number": 10,
       "text": [
        "[\n",
        "SITE:LOCATION,            \n",
        "    CHICAGO_IL_USA TMY2-94846,    !- Name\n",
        "    41.78,                    !- Latitude\n",
        "    -87.75,                   !- Longitude\n",
        "    3,                        !- Time Zone\n",
        "    190.0;                    !- Elevation\n",
        "]"
       ]
      }
     ],
     "prompt_number": 10
    },
    {
     "cell_type": "code",
     "collapsed": false,
     "input": [],
     "language": "python",
     "metadata": {},
     "outputs": []
    }
   ],
   "metadata": {}
  }
 ]
}